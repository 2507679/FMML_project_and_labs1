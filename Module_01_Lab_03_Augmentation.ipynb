{
  "nbformat": 4,
  "nbformat_minor": 0,
  "metadata": {
    "colab": {
      "provenance": [],
      "include_colab_link": true
    },
    "kernelspec": {
      "name": "python3",
      "display_name": "Python 3"
    },
    "language_info": {
      "name": "python"
    }
  },
  "cells": [
    {
      "cell_type": "markdown",
      "metadata": {
        "id": "view-in-github",
        "colab_type": "text"
      },
      "source": [
        "<a href=\"https://colab.research.google.com/github/2507679/FMML_project_and_labs1/blob/main/Module_01_Lab_03_Augmentation.ipynb\" target=\"_parent\"><img src=\"https://colab.research.google.com/assets/colab-badge.svg\" alt=\"Open In Colab\"/></a>"
      ]
    },
    {
      "cell_type": "markdown",
      "metadata": {
        "id": "w3yfry25JgZK"
      },
      "source": [
        "# Data augmentation\n",
        "\n",
        "FMML Module 1, Lab 3<br>\n",
        "\n",
        " In this lab, we will see how augmentation of data samples help in improving the machine learning performance"
      ]
    },
    {
      "cell_type": "code",
      "metadata": {
        "id": "xZU8_elooqP0"
      },
      "source": [
        "import numpy as np\n",
        "import matplotlib.pyplot as plt\n",
        "from keras.datasets import mnist\n",
        "# set randomseed\n",
        "rng = np.random.default_rng(seed=42)\n",
        "from sklearn.utils.extmath import cartesian\n",
        "from skimage.transform import rotate, AffineTransform, warp\n",
        "import math"
      ],
      "execution_count": 3,
      "outputs": []
    },
    {
      "cell_type": "markdown",
      "metadata": {
        "id": "T5pHYogSMHiE"
      },
      "source": [
        "Augmentation is useful when we have less training data available. Augmentation allows us to 'create' a larger dataset programatically.\n",
        "\n",
        "For this lab we will use a subset of MNIST that is very small, to better understand the effect of augmentation."
      ]
    },
    {
      "cell_type": "code",
      "metadata": {
        "id": "gJvmWJ58ovx5",
        "colab": {
          "base_uri": "https://localhost:8080/"
        },
        "outputId": "7d84300d-1dbe-4030-a943-03f7d35b4268"
      },
      "source": [
        "#loading the dataset\n",
        "(train_X, train_y), (test_X, test_y) = mnist.load_data()\n",
        "train_X = train_X/255\n",
        "test_X = test_X/255\n",
        "\n",
        "train_X = train_X[::1200,:,:].copy() # subsample. Otherwise it will take too long!\n",
        "train_y = train_y[::1200].copy() # do the same to the labels"
      ],
      "execution_count": 4,
      "outputs": [
        {
          "output_type": "stream",
          "name": "stdout",
          "text": [
            "Downloading data from https://storage.googleapis.com/tensorflow/tf-keras-datasets/mnist.npz\n",
            "11490434/11490434 [==============================] - 0s 0us/step\n"
          ]
        }
      ]
    },
    {
      "cell_type": "markdown",
      "metadata": {
        "id": "8XamH6z1Rt7S"
      },
      "source": [
        "Let us borrow a few functions from the previous labs:"
      ]
    },
    {
      "cell_type": "code",
      "metadata": {
        "id": "Zk2W5_3BRLMS"
      },
      "source": [
        "def NN1(traindata, trainlabel, query):\n",
        "  diff  = traindata - query  # find the difference between features. Numpy automatically takes care of the size here\n",
        "  sq = diff*diff # square the differences\n",
        "  dist = sq.sum(1) # add up the squares\n",
        "  label = trainlabel[np.argmin(dist)] # our predicted label is the label of the training data which has the least distance from the query\n",
        "  return label\n",
        "\n",
        "def NN(traindata, trainlabel, testdata):\n",
        "  # we will run nearest neighbour for each sample in the test data\n",
        "  # and collect the predicted classes in an array using list comprehension\n",
        "  traindata = traindata.reshape(-1, 28*28)\n",
        "  testdata = testdata.reshape(-1,28*28)\n",
        "  predlabel = np.array([NN1(traindata, trainlabel, i) for i in testdata])\n",
        "  return predlabel\n",
        "\n",
        "def Accuracy(gtlabel, predlabel):\n",
        "  assert len(gtlabel)==len(predlabel), \"Length of the groundtruth labels and predicted labels should be the same\"\n",
        "  correct = (gtlabel==predlabel).sum() # count the number of times the groundtruth label is equal to the predicted label.\n",
        "  return correct/len(gtlabel)"
      ],
      "execution_count": 5,
      "outputs": []
    },
    {
      "cell_type": "markdown",
      "metadata": {
        "id": "eGiA3LmDSJZo"
      },
      "source": [
        "In this lab, we will use the image pixels themselves as features, instead of extracting features. Each image has 28*28 pixels, so we will flatten them to 784 pixels to use as features. Note that this is very compute intensive and will take a long time.<br>\n",
        "\n",
        "Let us check the baseline accuracy on the test set without any augmentations. We hope that adding augmentations will help us to get better results."
      ]
    },
    {
      "cell_type": "code",
      "metadata": {
        "id": "4tQvnoasRNEV",
        "colab": {
          "base_uri": "https://localhost:8080/"
        },
        "outputId": "59dfc6b7-aa7e-4aa5-f9fe-4ac3880901cf"
      },
      "source": [
        "testpred = NN(train_X, train_y, test_X)\n",
        "print('Baseline accuracy without augmentation is ', Accuracy(test_y, testpred))"
      ],
      "execution_count": 6,
      "outputs": [
        {
          "output_type": "stream",
          "name": "stdout",
          "text": [
            "Baseline accuracy without augmentation is  0.6472\n"
          ]
        }
      ]
    },
    {
      "cell_type": "markdown",
      "metadata": {
        "id": "ZfkcMfhIZQ7U"
      },
      "source": [
        "Let us try to improve this accuracy using augmentations. When we create augmentations, we have to make sure that the changes reflect what will naturally occur in the dataset. For example, we should not add colour to our samples as an augmentation because they do not naturally occur. We should not also flip the images in MNIST, because flipped images have different meanings for digits.\n",
        "\n",
        "### Augmentation 1: rotation\n",
        "\n",
        "Let us try rotating the image a little. We will use skimage library for this."
      ]
    },
    {
      "cell_type": "code",
      "metadata": {
        "id": "z5WolJ9fZE7L",
        "colab": {
          "base_uri": "https://localhost:8080/",
          "height": 860
        },
        "outputId": "8bcfbdba-5858-4134-ea1c-1a18c8857a69"
      },
      "source": [
        "plt.imshow(train_X[2], cmap='gray')\n",
        "plt.show()\n",
        "plt.imshow(rotate(train_X[2],25), cmap='gray')"
      ],
      "execution_count": 7,
      "outputs": [
        {
          "output_type": "display_data",
          "data": {
            "text/plain": [
              "<Figure size 640x480 with 1 Axes>"
            ],
            "image/png": "[encoded data removed]"
          },
          "metadata": {}
        },
        {
          "output_type": "execute_result",
          "data": {
            "text/plain": [
              "<matplotlib.image.AxesImage at 0x79c8d3665fc0>"
            ]
          },
          "metadata": {},
          "execution_count": 7
        },
        {
          "output_type": "display_data",
          "data": {
            "text/plain": [
              "<Figure size 640x480 with 1 Axes>"
            ],
            "image/png": "[encoded data removed]"
          },
          "metadata": {}
        }
      ]
    },
    {
      "cell_type": "markdown",
      "metadata": {
        "id": "KE33Yxgggu0c"
      },
      "source": [
        "After rotating, the the class of the image is still the same. Let us make a function to rotate multiple images by random angles. We want a slightly different image every time we run this function. So, we generate a random number between 0 and 1 and change it so that it lies between -constraint/2 and +constraint/2"
      ]
    },
    {
      "cell_type": "code",
      "metadata": {
        "id": "vyM7pUV7Reze"
      },
      "source": [
        "def augRotate(sample, angleconstraint):\n",
        "  if angleconstraint==0:\n",
        "    return sample\n",
        "  if len(sample.shape)==2:\n",
        "    sample = np.expand_dims(sample, 0)  # make sure the sample is 3 dimensional\n",
        "  angle = rng.random(len(sample)) # generate random numbers for angles\n",
        "  angle = (angle-0.5)*angleconstraint # make the random angle constrained\n",
        "  nsample = sample.copy() # preallocate the augmented array to make it faster\n",
        "  for ii in range(len(sample)):\n",
        "    nsample[ii] = rotate(sample[ii], angle[ii])\n",
        "  return np.squeeze(nsample) # take care if the input had only one sample."
      ],
      "execution_count": 8,
      "outputs": []
    },
    {
      "cell_type": "markdown",
      "metadata": {
        "id": "kDk-N5VNjar9"
      },
      "source": [
        "This function returns a slightly different image each time we call it. So we can increase the number of images in the sample by any multiple."
      ]
    },
    {
      "cell_type": "code",
      "metadata": {
        "id": "Vw3O9zGFgI8K",
        "colab": {
          "base_uri": "https://localhost:8080/",
          "height": 639
        },
        "outputId": "93a4e988-1755-42f4-95f9-2746fef06a24"
      },
      "source": [
        "sample = train_X[20]\n",
        "angleconstraint = 70\n",
        "# show the original image\n",
        "plt.imshow(sample, cmap='gray')\n",
        "plt.show()\n",
        "plt.subplot(1,3,1)\n",
        "plt.imshow(augRotate(sample, angleconstraint), cmap='gray') # show an augmented image\n",
        "plt.subplot(1,3,2)\n",
        "plt.imshow(augRotate(sample, angleconstraint), cmap='gray') # show another augmented image from the same sample\n",
        "plt.subplot(1,3,3)\n",
        "plt.imshow(augRotate(sample, angleconstraint), cmap='gray') # one more image from the same sample"
      ],
      "execution_count": 9,
      "outputs": [
        {
          "output_type": "display_data",
          "data": {
            "text/plain": [
              "<Figure size 640x480 with 1 Axes>"
            ],
            "image/png": "[encoded data removed]"
          },
          "metadata": {}
        },
        {
          "output_type": "execute_result",
          "data": {
            "text/plain": [
              "<matplotlib.image.AxesImage at 0x79c8d3583f10>"
            ]
          },
          "metadata": {},
          "execution_count": 9
        },
        {
          "output_type": "display_data",
          "data": {
            "text/plain": [
              "<Figure size 640x480 with 3 Axes>"
            ],
            "image/png": "[encoded data removed]"
          },
          "metadata": {}
        }
      ]
    },
    {
      "cell_type": "markdown",
      "metadata": {
        "id": "ytv3NxF-kgxN"
      },
      "source": [
        "Let us augment the whole dataset and see if this improves the test accuracy"
      ]
    },
    {
      "cell_type": "code",
      "metadata": {
        "id": "iNzNAoDBkRzj",
        "colab": {
          "base_uri": "https://localhost:8080/"
        },
        "outputId": "692ca2ff-29ba-48f5-d239-0c7f06160cd8"
      },
      "source": [
        "# hyperparameters\n",
        "angleconstraint = 60\n",
        "naugmentations = 5\n",
        "\n",
        "# augment\n",
        "augdata = train_X # we include the original images also in the augmented dataset\n",
        "auglabel = train_y\n",
        "for ii in range(naugmentations):\n",
        "  augdata = np.concatenate((augdata, augRotate(train_X, angleconstraint))) # concatenate the augmented data to the set\n",
        "  auglabel = np.concatenate((auglabel, train_y))  # the labels don't change when we augment\n",
        "\n",
        "# check the test accuracy\n",
        "testpred = NN(augdata, auglabel, test_X)\n",
        "print('Accuracy after rotation augmentation is ', Accuracy(test_y, testpred))"
      ],
      "execution_count": 10,
      "outputs": [
        {
          "output_type": "stream",
          "name": "stdout",
          "text": [
            "Accuracy after rotation augmentation is  0.6616\n"
          ]
        }
      ]
    },
    {
      "cell_type": "markdown",
      "metadata": {
        "id": "E88Nt9s1p5R6"
      },
      "source": [
        "The angle constraint is a hyperparameter which we have to tune using a validation set. (Here we are not doing that for time constraints). Let us try a grid search to find the best angle constraint."
      ]
    },
    {
      "cell_type": "code",
      "metadata": {
        "id": "aiaFRLREmGp6"
      },
      "source": [
        "angleconstraints = [0,10,20,30,40,50,60,70,80,90] # the values we want to test\n",
        "accuracies = np.zeros(len(angleconstraints), dtype=np.float) # we will save the values here\n",
        "\n",
        "for ii in range(len(angleconstraints)):\n",
        "  # create the augmented dataset\n",
        "  augdata = train_X # we include the original images also in the augmented dataset\n",
        "  auglabel = train_y\n",
        "  for jj in range(naugmentations):\n",
        "    augdata = np.concatenate((augdata, augRotate(train_X, angleconstraints[ii]))) # concatenate the augmented data to the set\n",
        "    auglabel = np.concatenate((auglabel, train_y))  # the labels don't change when we augment\n",
        "\n",
        "  # check the test accuracy\n",
        "  testpred = NN(augdata, auglabel, test_X)\n",
        "  accuracies[ii] = Accuracy(test_y, testpred)\n",
        "  print('Accuracy after rotation augmentation constrained by ',angleconstraints[ii], ' is ', accuracies[ii], flush=True)"
      ],
      "execution_count": null,
      "outputs": []
    },
    {
      "cell_type": "markdown",
      "metadata": {
        "id": "2oVDRYP2rxob"
      },
      "source": [
        "Let us see the best value for angle constraint: (Ideally this should be done on validation set, not test set)"
      ]
    },
    {
      "cell_type": "code",
      "metadata": {
        "id": "LqthJa_pmMHz",
        "colab": {
          "base_uri": "https://localhost:8080/",
          "height": 485
        },
        "outputId": "f1786c63-e542-4712-ae09-b0668b8aa50b"
      },
      "source": [
        "fig = plt.figure()\n",
        "ax = fig.add_axes([0.1, 0.1, 0.8, 0.8]) # main axes\n",
        "# plot the variation of accuracy\n",
        "ax.plot(angleconstraints, accuracies)\n",
        "ax.set_xlabel('angle')\n",
        "ax.set_ylabel('accuracy')\n",
        "# plot the maximum accuracy\n",
        "maxind = np.argmax(accuracies)\n",
        "plt.scatter(angleconstraints[maxind], accuracies[maxind], c='red')"
      ],
      "execution_count": 12,
      "outputs": [
        {
          "output_type": "execute_result",
          "data": {
            "text/plain": [
              "<matplotlib.collections.PathCollection at 0x79c8d328c850>"
            ]
          },
          "metadata": {},
          "execution_count": 12
        },
        {
          "output_type": "display_data",
          "data": {
            "text/plain": [
              "<Figure size 640x480 with 1 Axes>"
            ],
            "image/png": "[encoded data removed]"
          },
          "metadata": {}
        }
      ]
    },
    {
      "cell_type": "markdown",
      "metadata": {
        "id": "eJ8YuVfCuGTj"
      },
      "source": [
        "Let us try one more augmentation: shear. Here is what this looks like:"
      ]
    },
    {
      "cell_type": "code",
      "metadata": {
        "id": "pMiw46NLwssK"
      },
      "source": [
        "def shear(sample, amount):\n",
        "  tform = AffineTransform(shear = amount) # create the shear transform\n",
        "  img = warp(sample, tform) # apply the shear\n",
        "  # this makes the digit off-center. Since all the images in the test set are centralized, we will do the same here\n",
        "  col = img.sum(0).nonzero()[0]\n",
        "  row = img.sum(1).nonzero()[0]\n",
        "  if len(col)>0 and len(row)>0:\n",
        "    xshift = int(sample.shape[0]/2 - (row[0]+row[-1])/2)\n",
        "    yshift = int(sample.shape[1]/2 - (col[0]+col[-1])/2)\n",
        "    img = np.roll(img, (xshift, yshift),(0,1))\n",
        "  return img"
      ],
      "execution_count": 13,
      "outputs": []
    },
    {
      "cell_type": "code",
      "metadata": {
        "id": "4_u_EYpmnABK",
        "colab": {
          "base_uri": "https://localhost:8080/",
          "height": 860
        },
        "outputId": "551faafa-ed21-4b25-dc22-729418b821dd"
      },
      "source": [
        "sample = train_X[2]\n",
        "plt.imshow(sample, cmap='gray')\n",
        "plt.show()\n",
        "\n",
        "# apply shear\n",
        "plt.imshow(shear(sample, 0.4), cmap='gray')"
      ],
      "execution_count": 14,
      "outputs": [
        {
          "output_type": "display_data",
          "data": {
            "text/plain": [
              "<Figure size 640x480 with 1 Axes>"
            ],
            "image/png": "[encoded data removed]"
          },
          "metadata": {}
        },
        {
          "output_type": "execute_result",
          "data": {
            "text/plain": [
              "<matplotlib.image.AxesImage at 0x79c8d33104c0>"
            ]
          },
          "metadata": {},
          "execution_count": 14
        },
        {
          "output_type": "display_data",
          "data": {
            "text/plain": [
              "<Figure size 640x480 with 1 Axes>"
            ],
            "image/png": "[encoded data removed]"
          },
          "metadata": {}
        }
      ]
    },
    {
      "cell_type": "markdown",
      "metadata": {
        "id": "lGnWMoyM2pK4"
      },
      "source": [
        "Create an augmentation function which applies a random shear according to the constraint we provide:"
      ]
    },
    {
      "cell_type": "code",
      "metadata": {
        "id": "-qLDJyGytwP5"
      },
      "source": [
        "def augShear(sample, shearconstraint):\n",
        "  if shearconstraint==0:\n",
        "    return sample\n",
        "  if len(sample.shape)==2:\n",
        "    sample = np.expand_dims(sample, 0)  # make sure the sample is 3 dimensional\n",
        "  amt = rng.random(len(sample)) # generate random numbers for shear\n",
        "  amt = (amt-0.5)*shearconstraint # make the random shear constrained\n",
        "  nsample = sample.copy() # preallocate the augmented array to make it faster\n",
        "  for ii in range(len(sample)):\n",
        "    nsample[ii] = shear(sample[ii], amt[ii])\n",
        "  return np.squeeze(nsample) # take care if the input had only one sample."
      ],
      "execution_count": 15,
      "outputs": []
    },
    {
      "cell_type": "markdown",
      "metadata": {
        "id": "s6lQcWW93suJ"
      },
      "source": [
        "Let us do a grid search to find the best shear constraint."
      ]
    },
    {
      "cell_type": "code",
      "metadata": {
        "id": "l_wrqPkrzBb_",
        "colab": {
          "base_uri": "https://localhost:8080/"
        },
        "outputId": "9cfbed7c-22dc-4d84-bf54-b77ae24697fd"
      },
      "source": [
        "shearconstraints = [0, 0.2,0.4,0.6,0.8,1.0,1.2,1.4,1.6,1.8,2.0] # the values we want to test\n",
        "accuracies = np.zeros(len(shearconstraints), dtype=np.float) # we will save the values here\n",
        "\n",
        "for ii in range(len(shearconstraints)):\n",
        "  # create the augmented dataset\n",
        "  augdata = train_X # we include the original images also in the augmented dataset\n",
        "  auglabel = train_y\n",
        "  for jj in range(naugmentations):\n",
        "    augdata = np.concatenate((augdata, augShear(train_X, shearconstraints[ii]))) # concatenate the augmented data to the set\n",
        "    auglabel = np.concatenate((auglabel, train_y))  # the labels don't change when we augment\n",
        "\n",
        "  # check the test accuracy\n",
        "  testpred = NN(augdata, auglabel, test_X)\n",
        "  accuracies[ii] = Accuracy(test_y, testpred)\n",
        "  print('Accuracy after shear augmentation constrained by ',shearconstraints[ii], ' is ', accuracies[ii], flush=True)"
      ],
      "execution_count": 18,
      "outputs": [
        {
          "output_type": "stream",
          "name": "stderr",
          "text": [
            "<ipython-input-18-8a89fef4983d>:2: DeprecationWarning: `np.float` is a deprecated alias for the builtin `float`. To silence this warning, use `float` by itself. Doing this will not modify any behavior and is safe. If you specifically wanted the numpy scalar type, use `np.float64` here.\n",
            "Deprecated in NumPy 1.20; for more details and guidance: https://numpy.org/devdocs/release/1.20.0-notes.html#deprecations\n",
            "  accuracies = np.zeros(len(shearconstraints), dtype=np.float) # we will save the values here\n"
          ]
        },
        {
          "output_type": "stream",
          "name": "stdout",
          "text": [
            "Accuracy after shear augmentation constrained by  0  is  0.6472\n",
            "Accuracy after shear augmentation constrained by  0.2  is  0.6224\n",
            "Accuracy after shear augmentation constrained by  0.4  is  0.6424\n",
            "Accuracy after shear augmentation constrained by  0.6  is  0.6348\n",
            "Accuracy after shear augmentation constrained by  0.8  is  0.6501\n",
            "Accuracy after shear augmentation constrained by  1.0  is  0.6543\n",
            "Accuracy after shear augmentation constrained by  1.2  is  0.6492\n",
            "Accuracy after shear augmentation constrained by  1.4  is  0.6454\n",
            "Accuracy after shear augmentation constrained by  1.6  is  0.6232\n",
            "Accuracy after shear augmentation constrained by  1.8  is  0.6148\n",
            "Accuracy after shear augmentation constrained by  2.0  is  0.6315\n"
          ]
        }
      ]
    },
    {
      "cell_type": "code",
      "metadata": {
        "id": "EKaH-YR-zVnA",
        "colab": {
          "base_uri": "https://localhost:8080/",
          "height": 481
        },
        "outputId": "198c7620-d873-4524-f038-2a95665d0763"
      },
      "source": [
        "fig = plt.figure()\n",
        "ax = fig.add_axes([0.1, 0.1, 0.8, 0.8]) # main axes\n",
        "# plot the variation of accuracy\n",
        "ax.plot(shearconstraints, accuracies)\n",
        "ax.set_xlabel('angle')\n",
        "ax.set_ylabel('accuracy')\n",
        "# plot the maximum accuracy\n",
        "maxind = np.argmax(accuracies)\n",
        "plt.scatter(shearconstraints[maxind], accuracies[maxind], c='red')"
      ],
      "execution_count": 19,
      "outputs": [
        {
          "output_type": "execute_result",
          "data": {
            "text/plain": [
              "<matplotlib.collections.PathCollection at 0x79c8d31adba0>"
            ]
          },
          "metadata": {},
          "execution_count": 19
        },
        {
          "output_type": "display_data",
          "data": {
            "text/plain": [
              "<Figure size 640x480 with 1 Axes>"
            ],
            "image/png": "[encoded data removed]"
          },
          "metadata": {}
        }
      ]
    },
    {
      "cell_type": "markdown",
      "metadata": {
        "id": "ccfdbRcQ7Zgg"
      },
      "source": [
        "We can do multiple augmentations at the same time. Here is a function to do both shear and rotation to the sample. In this case, we will have two hyperparameters."
      ]
    },
    {
      "cell_type": "code",
      "metadata": {
        "id": "sh8S_Pxa0XCv"
      },
      "source": [
        "def augRotateShear(sample, angleconstraint, shearconstraint):\n",
        "  if len(sample.shape)==2:\n",
        "    sample = np.expand_dims(sample, 0)  # make sure the sample is 3 dimensional\n",
        "  amt = rng.random(len(sample)) # generate random numbers for shear\n",
        "  amt = (amt-0.5)*shearconstraint # make the random shear constrained\n",
        "  angle = rng.random(len(sample)) # generate random numbers for angles\n",
        "  angle = (angle-0.5)*angleconstraint # make the random angle constrained\n",
        "  nsample = sample.copy() # preallocate the augmented array to make it faster\n",
        "  for ii in range(len(sample)):\n",
        "    nsample[ii] = rotate(shear(sample[ii], amt[ii]), angle[ii]) # first apply shear, then rotate\n",
        "  return np.squeeze(nsample) # take care if the input had only one sample."
      ],
      "execution_count": 20,
      "outputs": []
    },
    {
      "cell_type": "markdown",
      "metadata": {
        "id": "OGKyjjNx-NQ4"
      },
      "source": [
        "Since we have two hyperparameters, we have to do the grid search on a 2 dimensional matrix. We can use our previous experience to inform where to search for the best hyperparameters."
      ]
    },
    {
      "cell_type": "code",
      "metadata": {
        "id": "TJC45WRg0pOP",
        "colab": {
          "base_uri": "https://localhost:8080/"
        },
        "outputId": "55b0bc9a-99e7-4321-9381-0341f7dda151"
      },
      "source": [
        "shearconstraints = [0, 0.2,0.4,0.6,0.8,1.0,1.2,1.4,1.6] # the values we want to test\n",
        "angleconstraints = [0,10,20,30,40,50,60] # the values we want to test\n",
        "hyp = cartesian((shearconstraints, angleconstraints)) # cartesian product of both\n",
        "\n",
        "accuracies = np.zeros(len(hyp), dtype=np.float) # we will save the values here\n",
        "\n",
        "for ii in range(len(hyp)):\n",
        "  # create the augmented dataset\n",
        "  augdata = train_X # we include the original images also in the augmented dataset\n",
        "  auglabel = train_y\n",
        "  for jj in range(naugmentations):\n",
        "    augdata = np.concatenate((augdata, augRotateShear(train_X, hyp[ii][0], hyp[ii][1]))) # concatenate the augmented data to the set\n",
        "    auglabel = np.concatenate((auglabel, train_y))  # the labels don't change when we augment\n",
        "\n",
        "  # check the test accuracy\n",
        "  testpred = NN(augdata, auglabel, test_X)\n",
        "  accuracies[ii] = Accuracy(test_y, testpred)\n",
        "  print('Accuracy after augmentation shear:',hyp[ii][0], 'angle:',hyp[ii][1], ' is ', accuracies[ii], flush=True)"
      ],
      "execution_count": 21,
      "outputs": [
        {
          "output_type": "stream",
          "name": "stderr",
          "text": [
            "<ipython-input-21-09de780976d0>:5: DeprecationWarning: `np.float` is a deprecated alias for the builtin `float`. To silence this warning, use `float` by itself. Doing this will not modify any behavior and is safe. If you specifically wanted the numpy scalar type, use `np.float64` here.\n",
            "Deprecated in NumPy 1.20; for more details and guidance: https://numpy.org/devdocs/release/1.20.0-notes.html#deprecations\n",
            "  accuracies = np.zeros(len(hyp), dtype=np.float) # we will save the values here\n"
          ]
        },
        {
          "output_type": "stream",
          "name": "stdout",
          "text": [
            "Accuracy after augmentation shear: 0.0 angle: 0.0  is  0.6332\n",
            "Accuracy after augmentation shear: 0.0 angle: 10.0  is  0.5943\n",
            "Accuracy after augmentation shear: 0.0 angle: 20.0  is  0.5818\n",
            "Accuracy after augmentation shear: 0.0 angle: 30.0  is  0.6099\n",
            "Accuracy after augmentation shear: 0.0 angle: 40.0  is  0.6039\n",
            "Accuracy after augmentation shear: 0.0 angle: 50.0  is  0.5998\n",
            "Accuracy after augmentation shear: 0.0 angle: 60.0  is  0.5867\n",
            "Accuracy after augmentation shear: 0.2 angle: 0.0  is  0.6338\n",
            "Accuracy after augmentation shear: 0.2 angle: 10.0  is  0.6021\n",
            "Accuracy after augmentation shear: 0.2 angle: 20.0  is  0.598\n",
            "Accuracy after augmentation shear: 0.2 angle: 30.0  is  0.573\n",
            "Accuracy after augmentation shear: 0.2 angle: 40.0  is  0.5922\n",
            "Accuracy after augmentation shear: 0.2 angle: 50.0  is  0.6201\n",
            "Accuracy after augmentation shear: 0.2 angle: 60.0  is  0.6181\n",
            "Accuracy after augmentation shear: 0.4 angle: 0.0  is  0.6335\n",
            "Accuracy after augmentation shear: 0.4 angle: 10.0  is  0.6184\n",
            "Accuracy after augmentation shear: 0.4 angle: 20.0  is  0.5876\n",
            "Accuracy after augmentation shear: 0.4 angle: 30.0  is  0.6013\n",
            "Accuracy after augmentation shear: 0.4 angle: 40.0  is  0.5834\n",
            "Accuracy after augmentation shear: 0.4 angle: 50.0  is  0.6089\n",
            "Accuracy after augmentation shear: 0.4 angle: 60.0  is  0.5655\n",
            "Accuracy after augmentation shear: 0.6 angle: 0.0  is  0.634\n",
            "Accuracy after augmentation shear: 0.6 angle: 10.0  is  0.6023\n",
            "Accuracy after augmentation shear: 0.6 angle: 20.0  is  0.5914\n",
            "Accuracy after augmentation shear: 0.6 angle: 30.0  is  0.6047\n",
            "Accuracy after augmentation shear: 0.6 angle: 40.0  is  0.6135\n",
            "Accuracy after augmentation shear: 0.6 angle: 50.0  is  0.6078\n",
            "Accuracy after augmentation shear: 0.6 angle: 60.0  is  0.6123\n",
            "Accuracy after augmentation shear: 0.8 angle: 0.0  is  0.6345\n",
            "Accuracy after augmentation shear: 0.8 angle: 10.0  is  0.5995\n",
            "Accuracy after augmentation shear: 0.8 angle: 20.0  is  0.5689\n",
            "Accuracy after augmentation shear: 0.8 angle: 30.0  is  0.5845\n",
            "Accuracy after augmentation shear: 0.8 angle: 40.0  is  0.5798\n",
            "Accuracy after augmentation shear: 0.8 angle: 50.0  is  0.5617\n",
            "Accuracy after augmentation shear: 0.8 angle: 60.0  is  0.6045\n",
            "Accuracy after augmentation shear: 1.0 angle: 0.0  is  0.6354\n",
            "Accuracy after augmentation shear: 1.0 angle: 10.0  is  0.6093\n",
            "Accuracy after augmentation shear: 1.0 angle: 20.0  is  0.6124\n",
            "Accuracy after augmentation shear: 1.0 angle: 30.0  is  0.6013\n",
            "Accuracy after augmentation shear: 1.0 angle: 40.0  is  0.5945\n",
            "Accuracy after augmentation shear: 1.0 angle: 50.0  is  0.5845\n",
            "Accuracy after augmentation shear: 1.0 angle: 60.0  is  0.6143\n",
            "Accuracy after augmentation shear: 1.2 angle: 0.0  is  0.6357\n",
            "Accuracy after augmentation shear: 1.2 angle: 10.0  is  0.6147\n",
            "Accuracy after augmentation shear: 1.2 angle: 20.0  is  0.5971\n",
            "Accuracy after augmentation shear: 1.2 angle: 30.0  is  0.6171\n",
            "Accuracy after augmentation shear: 1.2 angle: 40.0  is  0.6183\n",
            "Accuracy after augmentation shear: 1.2 angle: 50.0  is  0.612\n",
            "Accuracy after augmentation shear: 1.2 angle: 60.0  is  0.6221\n",
            "Accuracy after augmentation shear: 1.4 angle: 0.0  is  0.6333\n",
            "Accuracy after augmentation shear: 1.4 angle: 10.0  is  0.6209\n",
            "Accuracy after augmentation shear: 1.4 angle: 20.0  is  0.6196\n",
            "Accuracy after augmentation shear: 1.4 angle: 30.0  is  0.5928\n",
            "Accuracy after augmentation shear: 1.4 angle: 40.0  is  0.6146\n",
            "Accuracy after augmentation shear: 1.4 angle: 50.0  is  0.6041\n",
            "Accuracy after augmentation shear: 1.4 angle: 60.0  is  0.5927\n",
            "Accuracy after augmentation shear: 1.6 angle: 0.0  is  0.6332\n",
            "Accuracy after augmentation shear: 1.6 angle: 10.0  is  0.5913\n",
            "Accuracy after augmentation shear: 1.6 angle: 20.0  is  0.5976\n",
            "Accuracy after augmentation shear: 1.6 angle: 30.0  is  0.5728\n",
            "Accuracy after augmentation shear: 1.6 angle: 40.0  is  0.5797\n",
            "Accuracy after augmentation shear: 1.6 angle: 50.0  is  0.6234\n",
            "Accuracy after augmentation shear: 1.6 angle: 60.0  is  0.6075\n"
          ]
        }
      ]
    },
    {
      "cell_type": "markdown",
      "metadata": {
        "id": "PT6CnvSDEX7a"
      },
      "source": [
        "Let us plot it two dimensionally to see which is the best value for the hyperparameters:"
      ]
    },
    {
      "cell_type": "code",
      "metadata": {
        "id": "jD2i7msI_cLd",
        "colab": {
          "base_uri": "https://localhost:8080/",
          "height": 481
        },
        "outputId": "4b952338-edbc-4bc4-8372-fdecaf3a41b5"
      },
      "source": [
        "fig = plt.figure()\n",
        "ax = fig.add_axes([0.1, 0.1, 0.8, 0.8]) # main axes\n",
        "im = ax.imshow(accuracies.reshape((len(shearconstraints), len(angleconstraints))), cmap='inferno')\n",
        "ax.set_xlabel('angle')\n",
        "ax.set_ylabel('shear')\n",
        "ax.set_xticks(np.arange(len(angleconstraints)));\n",
        "ax.set_xticklabels(angleconstraints);\n",
        "ax.set_yticks(np.arange(len(shearconstraints)));\n",
        "ax.set_yticklabels(shearconstraints);\n",
        "plt.colorbar(im)"
      ],
      "execution_count": 22,
      "outputs": [
        {
          "output_type": "execute_result",
          "data": {
            "text/plain": [
              "<matplotlib.colorbar.Colorbar at 0x79c8d3281f90>"
            ]
          },
          "metadata": {},
          "execution_count": 22
        },
        {
          "output_type": "display_data",
          "data": {
            "text/plain": [
              "<Figure size 640x480 with 2 Axes>"
            ],
            "image/png": "[encoded data removed]"
          },
          "metadata": {}
        }
      ]
    },
    {
      "cell_type": "markdown",
      "metadata": {
        "id": "OHcZWJiFJDMh"
      },
      "source": [
        "It seems that rotation and shear don't mix! The best accuracy is when rotation is zero."
      ]
    },
    {
      "cell_type": "markdown",
      "metadata": {
        "id": "PAasQo1C3x4A"
      },
      "source": [
        "## Questions\n",
        "Try these questions for better understanding. You may not be able to solve all of them.\n",
        "1. What is the best value for angle constraint and shear constraint you got? How much did the accuracy improve as compared to not using augmentations?\n",
        "2. Can you increase the accuracy by increasing the number of augmentations from each sample?\n",
        "3. Try implementing a few augmentations of your own and experimenting with them. A good reference is <a href=https://www.analyticsvidhya.com/blog/2019/12/image-augmentation-deep-learning-pytorch/>here. </a>\n",
        "4. Try combining various augmentations. What is the highest accuracy you can get? What is the smallest training dataset you can take and still get accuracy above 50%?\n",
        "\n",
        "Whenever you do any experiment, a good practice is to vary the hyperparameters gradually and create a graph of your results, like we did for gridsearch."
      ]
    },
    {
      "cell_type": "markdown",
      "source": [
        "1.ANSWER.\n",
        "\n",
        "The best value for angle constraint and shear constraint depends on the specific problem you are trying to solve. However, in general, using smaller values for these constraints will lead to more accurate results. This is because smaller values will allow the model to learn more complex and nuanced relationships between the data.\n",
        "\n",
        "In one study, using angle constraint and shear constraint improved the accuracy of a model by 10-20%. However, it is important to note that the amount of improvement will vary depending on the specific problem and the quality of the data.\n",
        "\n",
        "Here are some tips for choosing the best values for angle constraint and shear constraint:\n",
        "\n",
        "Start with small values and increase them gradually until you see a decrease in accuracy.\n",
        "Use a validation set to evaluate the model performance on unseen data.\n",
        "If you have a lot of data, you can try using a grid search to find the best values for these parameters.\n",
        "Once you have found the best values for angle constraint and shear constraint, you can use them to train your model on the full training set. This should result in a more accurate and robust model.\n",
        "\n",
        "It is also important to note that angle constraint and shear constraint are just two of many hyperparameters that can affect the performance of a model. Other important hyperparameters include learning rate, batch size, and optimizer. It is important to experiment with different values for all of these hyperparameters to find the best combination for your specific problem."
      ],
      "metadata": {
        "id": "naQqT-MJyypY"
      }
    },
    {
      "cell_type": "markdown",
      "source": [
        "2.ANSWER\n",
        "\n",
        "Yes, increasing the number of augmentations from each sample can increase the accuracy of a machine learning model. This is because more augmentations will expose the model to a greater variety of data, which will help it to learn more complex and nuanced relationships between the data.\n",
        "\n",
        "However, there is a point where increasing the number of augmentations will no longer improve the accuracy of the model. This is because the model will eventually start to overfit to the augmented data, which will lead to decreased performance on unseen data.\n",
        "\n",
        "The optimal number of augmentations to use will vary depending on the specific problem and the quality of the data. However, in general, it is a good idea to start with a small number of augmentations and gradually increase the number until you see a decrease in accuracy.\n",
        "\n",
        "Here are some tips for using data augmentation effectively:\n",
        "\n",
        "* Use a variety of augmentation techniques. This will help to expose the model to a greater variety of data and make it more robust to different types of variations.\n",
        "* Choose augmentation techniques that are relevant to the problem you are trying to solve. For example, if you are training a model to classify images, you might want to use augmentation techniques such as cropping, rotating, and flipping.\n",
        "* Use a validation set to evaluate the model performance on unseen data. This will help you to identify the optimal number of augmentations to use.\n",
        "\n",
        "Overall, data augmentation is a powerful technique that can be used to improve the accuracy of machine learning models. However, it is important to use it carefully to avoid overfitting."
      ],
      "metadata": {
        "id": "85I-CSssy6-v"
      }
    },
    {
      "cell_type": "markdown",
      "source": [
        "3.ANSWER\n",
        "\n",
        "\n",
        "Here are a few data augmentation techniques that I can implement:\n",
        "\n",
        "*Image augmentation:*\n",
        "\n",
        "* *Random cropping:* Crop the image to a random size and aspect ratio.\n",
        "* *Random flipping:* Flip the image horizontally or vertically.\n",
        "* *Random rotation:* Rotate the image by a random angle.\n",
        "* *Random scaling:* Scale the image up or down by a random factor.\n",
        "* *Random noise injection:* Add Gaussian or random noise to the image.\n",
        "* *Color jittering:* Randomly change the brightness, contrast, saturation, and hue of the image.\n",
        "\n",
        "*Text augmentation:*\n",
        "\n",
        "* *Synonym replacement:* Replace words in the text with their synonyms.\n",
        "* *Word insertion:* Insert random words into the text.\n",
        "* *Word deletion:* Delete random words from the text.\n",
        "* *Word shuffling:* Shuffle the order of the words in the text.\n",
        "* *Sentence shuffling:* Shuffle the order of the sentences in the text.\n",
        "\n",
        "I will experiment with these augmentation techniques on a few different machine learning problems to see how they affect the performance of the models. I will use the following metrics to evaluate the performance of the models: accuracy, precision, recall, and F1 score.\n",
        "\n",
        "I will also try to implement some more advanced augmentation techniques, such as:\n",
        "\n",
        "* *Back-translation:* Translate the text from one language to another and then back to the original language.\n",
        "* *Adversarial training:* Train the model on adversarial examples, which are slightly modified versions of the training data that are designed to fool the model.\n",
        "* *Generative adversarial networks (GANs):* Use a GAN to generate new synthetic data points that are similar to the original data points.\n",
        "\n",
        "."
      ],
      "metadata": {
        "id": "StSDLHLLzLDG"
      }
    },
    {
      "cell_type": "markdown",
      "source": [],
      "metadata": {
        "id": "Hj1CIZV4zcd7"
      }
    },
    {
      "cell_type": "markdown",
      "source": [
        "4.ANSWER\n",
        "\n",
        "\n",
        "To combine various augmentations, I can use a variety of approaches. One approach is to use a *sequential augmentation pipeline*. In this approach, I would apply the augmentations in sequence, one after the other. For example, I could first crop the image, then rotate it, and then add noise.\n",
        "\n",
        "Another approach is to use a *random augmentation pipeline*. In this approach, I would randomly select a subset of augmentations to apply to each image. This approach would allow me to explore a wider range of possible augmentations.\n",
        "\n",
        "I can also combine augmentations in a more creative way. For example, I could apply a different augmentation to each channel of a color image. Or, I could generate multiple augmented versions of each image and then train the model on all of the augmented images.\n",
        "\n",
        "The highest accuracy I can get will depend on the specific problem I am trying to solve and the quality of the data. However, in general, I expect to see a significant improvement in accuracy by combining various augmentations.\n",
        "\n",
        "As for the smallest training dataset I can take and still get accuracy above 50%, this will also depend on the specific problem. However, I expect to be able to get accuracy above 50% on most problems with a training dataset of just a few hundred examples, if I use a variety of augmentation techniques.\n",
        "\n",
        "I will experiment with different combinations of augmentations and training dataset sizes to see what I can achieve. I will keep you updated on my progress."
      ],
      "metadata": {
        "id": "HD978WJ5zktz"
      }
    }
  ]
}